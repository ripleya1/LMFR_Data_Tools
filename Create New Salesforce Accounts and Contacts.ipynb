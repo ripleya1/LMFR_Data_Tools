{
 "cells": [
  {
   "cell_type": "code",
   "execution_count": null,
   "id": "a1f95d2b",
   "metadata": {},
   "outputs": [],
   "source": [
    "import functions\n",
    "\n",
    "# org variables\n",
    "uri = 'https://lastmilefood.my.salesforce.com/services/data/v52.0/jobs/'\n",
    "\n",
    "# auth variables\n",
    "username = ''\n",
    "password = ''\n",
    "securityToken = ''\n",
    "\n",
    "# authenticate with API\n",
    "session = functions.loginToSalesforce(username, password, securityToken)\n",
    "\n",
    "salesforceAccountsDF = functions.getDataframeFromSalesforce('SELECT Id, Name, RecordTypeId FROM Account', session, uri)\n",
    "salesforceContactsDF = functions.getDataframeFromSalesforce('SELECT Id, Name, AccountId FROM Contact', session, uri)"
   ]
  },
  {
   "cell_type": "code",
   "execution_count": null,
   "id": "c959c17e",
   "metadata": {},
   "outputs": [],
   "source": [
    "### UPLOAD FOOD DONORS TO SALESFORCE\n",
    "# before executing: download donors report and save it as a file in this folder named \"lastmile_donors.csv\"\n",
    "functions.uploadFoodDonors(salesforceAccountsDF, session, uri)"
   ]
  },
  {
   "cell_type": "code",
   "execution_count": null,
   "id": "dbd858d2",
   "metadata": {},
   "outputs": [],
   "source": [
    "### UPLOAD NONPROFIT PARTNERS TO SALESFORCE\n",
    "# before executing: download nonprofits report and save it as a file in this folder named \"lastmile_partners.csv\"\n",
    "functions.uploadNonprofitPartners(salesforceAccountsDF, session, uri)"
   ]
  },
  {
   "cell_type": "code",
   "execution_count": null,
   "id": "8612ffe6",
   "metadata": {},
   "outputs": [],
   "source": [
    "### UPLOAD VOLUNTEERS TO SALESFORCE\n",
    "# before executing: download volunteers report and save it as a file in this folder named \"lastmile_volunteers.csv\"\n",
    "functions.uploadVolunteers(salesforceContactsDF, session, uri)"
   ]
  },
  {
   "cell_type": "code",
   "execution_count": null,
   "id": "95e925d9",
   "metadata": {},
   "outputs": [],
   "source": []
  }
 ],
 "metadata": {
  "kernelspec": {
   "display_name": "Python 3.8.0 64-bit",
   "language": "python",
   "name": "python3"
  },
  "language_info": {
   "codemirror_mode": {
    "name": "ipython",
    "version": 3
   },
   "file_extension": ".py",
   "mimetype": "text/x-python",
   "name": "python",
   "nbconvert_exporter": "python",
   "pygments_lexer": "ipython3",
   "version": "3.8.0"
  },
  "vscode": {
   "interpreter": {
    "hash": "0adcc2737ebf6a4a119f135174df96668767fca1ef1112612db5ecadf2b6d608"
   }
  }
 },
 "nbformat": 4,
 "nbformat_minor": 5
}
